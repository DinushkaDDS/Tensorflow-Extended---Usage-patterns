{
 "cells": [
  {
   "cell_type": "markdown",
   "metadata": {},
   "source": [
    "# Implementing Model Feedback Loops\n",
    "\n",
    "\n",
    "\n",
    "\n",
    "\n"
   ]
  },
  {
   "cell_type": "markdown",
   "metadata": {},
   "source": [
    "Feedback loops are used in ML systems to get user opinion on the usage and to get their behaviour patterns. Then we can build upon those details and improve our models/systems. But before this part it is important to setup the other pipeline components in a robust way. Ideally, pipeline should not fail in any circumstance unless the input data statistics/validations are different than the once we have defined.\n",
    "\n",
    "We can divide feedback loops to 2 main types.\n",
    "\n",
    "1. Explicit - User gives some direct feedback on the prediction (Like giving a rating)\n",
    "2. Implicit - People's actions in their normal product usage give the model feedback (like in recommender systems.)\n",
    "\n",
    "\n",
    "The exact type to use with depend on the system we are building. But regardless of the method we are using, we need to be careful using the received feedback as it may cause problems that we do not anticapte.\n",
    "\n",
    "\n",
    "### __Feedback Collection__\n",
    "\n",
    "As mentioned earlier the design pattern we can use will mostly depend on the type of work we are doing. But in general they can be explained in below types.\n",
    "\n",
    "#### Users take an action based on prediction\n",
    "\n",
    "This is mostly common in recommender systems. We show the predictions to the user and user will take some action based on that. We record the actions took by user and use it to further enhance the system. \n",
    "\n",
    "\n",
    "#### User give a rating\n",
    "\n",
    "This is a case in sales/ some recommendation platforms where users explicitly rate a prediction based on their opinion. )It could be a star rating, thumbs up/down)\n",
    "\n",
    "\n",
    "#### User correct the prediction\n",
    "\n",
    "Here there are several method to execute. Either we can directly ask from user (like a survey) or can show a prediction we want to test to the user and see whether they accept it or not. It should be noted that this method can be properly used in cases where ML system goal and user goals are tightly aligned. (Like auto field filling in a banking app)\n",
    "\n",
    "Some other feedback methods include crowdsource annotation and expert annotation works.\n",
    "\n",
    "Once we are decided on the type of feedback we are expecting, we can think of the method to implement it. Idea behind this is keeping a tracking ID for each prediction. This way once the user gives the prediction we can trace back to the original sources and improve upon it.\n"
   ]
  },
  {
   "cell_type": "markdown",
   "metadata": {},
   "source": []
  }
 ],
 "metadata": {
  "kernelspec": {
   "display_name": "Python 3.9.7 ('Machine_Learning_Pipelines-cCuFzokH')",
   "language": "python",
   "name": "python3"
  },
  "language_info": {
   "name": "python",
   "version": "3.9.7"
  },
  "orig_nbformat": 4,
  "vscode": {
   "interpreter": {
    "hash": "09d8130ec584c6fad87bda1a68cc74a67224bab37bcf74941c3cce44e422d7e2"
   }
  }
 },
 "nbformat": 4,
 "nbformat_minor": 2
}
