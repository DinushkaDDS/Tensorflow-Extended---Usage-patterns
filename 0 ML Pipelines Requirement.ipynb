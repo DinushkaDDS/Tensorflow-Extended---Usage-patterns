{
 "cells": [
  {
   "cell_type": "markdown",
   "metadata": {},
   "source": [
    "# Why we need ML pipelines?\n",
    "\n",
    "In almost all the ML project there are definite steps. These include data validation, data preprocessing, model training, monitoring and deploying. Since ML application developments are inherently different from the typical software application development processes, deveopers tend to do the above mentioned processes manually. And it is super bad because it causes so many problems along the line. Specially when you are comfortable with such manual process. (Telling from experience 😞).\n",
    "\n",
    "Therefore it is important to have proper methods to maintain the ML application development processes.\n",
    "\n",
    "As I mentioned, ML application follows a pattern and the managing this ML application development lifecycle is called `ML Ops` or `ML Operations` (like devops). This practice aims at solving problems arise in ML model building process. Below include details about some of the Model life cycle steps."
   ]
  },
  {
   "cell_type": "markdown",
   "metadata": {},
   "source": [
    "### Data ingestion and versioning\n",
    "\n",
    "In almost all the productionized ML systems, there must be a way to continuously obtain data. This is required to improve the model, get feedback and also sometimes for legal purposes. This may be streaming data or batch data.\n",
    "Versioning comes in to play to solve several issues including backup purposes/ legal reasons."
   ]
  },
  {
   "cell_type": "markdown",
   "metadata": {},
   "source": [
    "### Data validation\n",
    "\n",
    "Once we got the required data, it is important to validate the data to make sure that what we got is what we expected. ML models do not like changed data. It may cause problems if inputs are not valid. Therefore, there are number of things to do to during this phase. Checking input value ranges, categorical data type values (do they have new values), is data contain missing values/ additional fields etc are some of such tasks."
   ]
  },
  {
   "cell_type": "markdown",
   "metadata": {},
   "source": [
    "### Data preprocessing\n",
    "\n",
    "Here we do the necessary processing to the data, before feeding it to a model. We may normalize values, make encodings (one hot encoding), fill missing values, remove fields, make aggregated fields etc. during this process to get the dataset in a clean state."
   ]
  },
  {
   "cell_type": "markdown",
   "metadata": {},
   "source": [
    "### Model training and tuning\n",
    "\n",
    "As a ML engineer or data scientist, this is the most interesting part in any ML application. Here we use the dataset we prepared from the earlier steps to do a specific task using a ML model. We build the model and train it to solve whatever the problem we had during this step."
   ]
  },
  {
   "cell_type": "markdown",
   "metadata": {},
   "source": [
    "### Model analysis\n",
    "\n",
    "Once we build our model, we need to check its performance. We use several evaluation metrices depending on the task to check model behaviour. This is important step in ML model life cycle as it helps us to understand how our model would perform in practical scenarios."
   ]
  },
  {
   "cell_type": "markdown",
   "metadata": {},
   "source": [
    "### Model versioning\n",
    "\n",
    "The purpose of this step is to keep track of which model used which dataset, revert back if theres a problem, legal requirements etc."
   ]
  },
  {
   "cell_type": "markdown",
   "metadata": {},
   "source": [
    "### Model deployment\n",
    "\n",
    "Once we are done with our model building, we need to serve it somewhere. Everything related to that comes under the deployment step. Our model would be a scheduled batch process or REST api which answers to user requests. Deployment strategy will be different depending on that, but nevertheless one of the most important step IMO."
   ]
  },
  {
   "cell_type": "markdown",
   "metadata": {},
   "source": [
    "### Feedback Loop\n",
    "\n",
    "Once we deploy our model, then comes getting feedback from users. We can do A/B testing, ratings, reviews etc. to measure customer satisfactions and points to improve. Based on those inputs we can work on the next iteration of out model building process."
   ]
  },
  {
   "cell_type": "markdown",
   "metadata": {},
   "source": []
  },
  {
   "cell_type": "markdown",
   "metadata": {},
   "source": []
  }
 ],
 "metadata": {
  "kernelspec": {
   "display_name": "Python 3.9.7 64-bit",
   "language": "python",
   "name": "python3"
  },
  "language_info": {
   "name": "python",
   "version": "3.9.7"
  },
  "orig_nbformat": 4,
  "vscode": {
   "interpreter": {
    "hash": "68acd5d746db9e112a7343296bb3423d1ae6da35b5d50d333630681f8a968c1e"
   }
  }
 },
 "nbformat": 4,
 "nbformat_minor": 2
}
