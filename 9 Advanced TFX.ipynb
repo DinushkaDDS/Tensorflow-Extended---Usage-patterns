{
 "cells": [
  {
   "cell_type": "markdown",
   "metadata": {},
   "source": [
    "# Advanced TFX\n",
    "\n",
    "As we saw most of the simpler ML works can be done using generic pipeline components provided by the TFX. But in some cases we need to go beyond the generic component flows and should have complex compoents. Here we are focusing on techniques we can use in such scenarios.\n",
    "\n",
    "\n",
    "### Training multiple models simultaneously\n",
    "\n",
    "In many production systems, it if often required to train more than one model. And TFX provide support to train several models using a single pipeline. In such cases all the data preparation/ validation and transformation steps remains the same, but from there onwards data may flow into different types of models. We can do this by defining several trainer components in the TFX pipeline."
   ]
  },
  {
   "cell_type": "code",
   "execution_count": null,
   "metadata": {},
   "outputs": [],
   "source": [
    "def set_trainer(module_file, instance_name,\n",
    "                train_steps=5000, eval_steps=100):\n",
    "    return Trainer(\n",
    "        module_file=module_file,\n",
    "        custom_executor_spec=executor_spec.ExecutorClassSpec(\n",
    "            GenericExecutor),\n",
    "        examples=transform.outputs['transformed_examples'],\n",
    "        transform_graph=transform.outputs['transform_graph'],\n",
    "        schema=schema_gen.outputs['schema'],\n",
    "        train_args=trainer_pb2.TrainArgs(num_steps=train_steps),\n",
    "        eval_args=trainer_pb2.EvalArgs(num_steps=eval_steps),\n",
    "        instance_name=instance_name)"
   ]
  },
  {
   "cell_type": "markdown",
   "metadata": {},
   "source": [
    "Like the above rough code segment, we can define different trainer components with different module files. By doing this we can branch out and build complex ML pipelines than a single path pipeline.\n",
    "\n",
    "<center><image src=\"imgs/6.jpg\" width=\"500\"/></center>\n",
    "\n",
    "### TFLite model Exporting\n",
    "\n",
    "Mobile application development is one of the most major task in today world software engineering tasks. When deploying ML models to such applications we have problems such as low computational power, low storage, restrained power usage etc. To use in such cases we can use TFLite models. We can convert our exising models as a part of our pipeline to TFLite models. But it should be noted that, not all TF operations are supported by the TFLite models. So should expect problems in converting problems if model uses complicated operations."
   ]
  },
  {
   "cell_type": "markdown",
   "metadata": {},
   "source": [
    "### Warm Start Model Training\n",
    "\n"
   ]
  },
  {
   "cell_type": "code",
   "execution_count": null,
   "metadata": {},
   "outputs": [],
   "source": []
  },
  {
   "cell_type": "code",
   "execution_count": null,
   "metadata": {},
   "outputs": [],
   "source": []
  },
  {
   "cell_type": "code",
   "execution_count": null,
   "metadata": {},
   "outputs": [],
   "source": []
  },
  {
   "cell_type": "code",
   "execution_count": null,
   "metadata": {},
   "outputs": [],
   "source": []
  },
  {
   "cell_type": "code",
   "execution_count": null,
   "metadata": {},
   "outputs": [],
   "source": []
  }
 ],
 "metadata": {
  "kernelspec": {
   "display_name": "Python 3.9.7 ('Machine_Learning_Pipelines-cCuFzokH')",
   "language": "python",
   "name": "python3"
  },
  "language_info": {
   "codemirror_mode": {
    "name": "ipython",
    "version": 3
   },
   "file_extension": ".py",
   "mimetype": "text/x-python",
   "name": "python",
   "nbconvert_exporter": "python",
   "pygments_lexer": "ipython3",
   "version": "3.9.7"
  },
  "orig_nbformat": 4,
  "vscode": {
   "interpreter": {
    "hash": "09d8130ec584c6fad87bda1a68cc74a67224bab37bcf74941c3cce44e422d7e2"
   }
  }
 },
 "nbformat": 4,
 "nbformat_minor": 2
}
