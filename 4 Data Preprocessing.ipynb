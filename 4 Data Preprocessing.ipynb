{
 "cells": [
  {
   "cell_type": "markdown",
   "metadata": {},
   "source": [
    "# Data Preprocessing using TFX\n",
    "\n",
    "In almost all the cases of Machine learning applications we need to transform our data into a more meaningful format. To help us in achieving tasks related to data processing TFX provides a component named `Tensorflow Transform`. It allows us to build transformation steps as tensorflow graphs.\n",
    "\n",
    "One of the major concerns we have in a production ml system is training/serving data skew. To help in these cases TFT builds are preprocessing graph to process daa and preserve it with determined boundary values for the feautes. Then this graph can be used in the inference phase of the model which ensures the same preprocessing for that data as well.\n",
    "\n",
    "In order to achieve that, we can combine the model along with the preprocessing graph along with the used parameters. Then that can be used in the API server. Also this gives us an additional benefit of being able to analyze the inference input data. One example is identifying `out of vocabulary word` inputs to a NLP model. "
   ]
  },
  {
   "cell_type": "markdown",
   "metadata": {},
   "source": [
    "### Data Preprocessing with TFT\n",
    "\n",
    "TFT processes the data we ingested to our pipeline with the earlier generated data schema and outputs 2 artifacts.\n",
    "\n",
    "1. Preprocessed training and evaluation datasets in TFRecord format.\n",
    "2. Exported preprocessing graph which we can use when we export our ml model.\n",
    "\n",
    "TFT provides a function named `preprocessing_fn` which will receive the raw data, apply the transformation and then return the processed data. Point to note is that all the transformation applied to the data should be tensorflow operations. This allows tft to distribute processing effectively dusing execution.\n",
    "\n"
   ]
  },
  {
   "cell_type": "code",
   "execution_count": null,
   "metadata": {},
   "outputs": [],
   "source": []
  },
  {
   "cell_type": "code",
   "execution_count": null,
   "metadata": {},
   "outputs": [],
   "source": []
  },
  {
   "cell_type": "code",
   "execution_count": null,
   "metadata": {},
   "outputs": [],
   "source": []
  },
  {
   "cell_type": "code",
   "execution_count": null,
   "metadata": {},
   "outputs": [],
   "source": []
  },
  {
   "cell_type": "code",
   "execution_count": null,
   "metadata": {},
   "outputs": [],
   "source": []
  },
  {
   "cell_type": "code",
   "execution_count": null,
   "metadata": {},
   "outputs": [],
   "source": []
  }
 ],
 "metadata": {
  "kernelspec": {
   "display_name": "Python 3.9.7 ('Machine_Learning_Pipelines-cCuFzokH')",
   "language": "python",
   "name": "python3"
  },
  "language_info": {
   "name": "python",
   "version": "3.9.7"
  },
  "orig_nbformat": 4,
  "vscode": {
   "interpreter": {
    "hash": "09d8130ec584c6fad87bda1a68cc74a67224bab37bcf74941c3cce44e422d7e2"
   }
  }
 },
 "nbformat": 4,
 "nbformat_minor": 2
}
